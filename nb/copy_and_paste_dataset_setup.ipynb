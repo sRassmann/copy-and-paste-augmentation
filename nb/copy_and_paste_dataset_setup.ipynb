{
 "cells": [
  {
   "cell_type": "code",
   "execution_count": null,
   "metadata": {
    "id": "T3Uwq-513nu_"
   },
   "outputs": [],
   "source": [
    "from google.colab import drive\n",
    "import os\n",
    "import sys\n",
    "\n",
    "drive.mount(\"/content/drive\")\n",
    "os.chdir(\"drive/MyDrive/PG/pg_iss/\")\n",
    "assert os.getcwd().split(\"/\")[-1] == \"pg_iss\"\n",
    "# !pip install -q -U albumentations"
   ]
  },
  {
   "cell_type": "code",
   "execution_count": null,
   "metadata": {
    "id": "fHuTcCVp3gdl"
   },
   "outputs": [],
   "source": [
    "import os\n",
    "import sys\n",
    "\n",
    "if os.path.split(os.getcwd())[-1] == \"nb\":\n",
    "    os.chdir(\"..\")\n",
    "sys.path.append(\"lib\")\n",
    "\n",
    "from pycocotools.coco import COCO\n",
    "import pandas as pd\n",
    "import matplotlib.pyplot as plt\n",
    "import cv2\n",
    "import numpy as np\n",
    "import json\n",
    "\n",
    "%load_ext autoreload\n",
    "%autoreload 2\n",
    "\n",
    "from lib.coco_handler import *\n",
    "from lib.copy_and_paste_augm import *"
   ]
  },
  {
   "cell_type": "markdown",
   "metadata": {
    "id": "NNv9AB5N3gdr",
    "pycharm": {
     "name": "#%% md\n"
    }
   },
   "source": [
    "# Create a new COCO annotation set from masks\n",
    "\n",
    "This chunks takes an existing annotation file (alternatively creates an empty on)\n",
    " and adds instance masks extracted from the binary masks."
   ]
  },
  {
   "cell_type": "code",
   "execution_count": null,
   "metadata": {
    "id": "Uy6PSCtj3gdu",
    "pycharm": {
     "name": "#%%\n"
    }
   },
   "outputs": [],
   "source": [
    "c_raw = CocoDataset(os.path.join(constants.path_to_anno_dir, \"butterfly_anno.json\"))\n",
    "d = os.path.join(constants.path_to_data_dir, \"raw\", \"bug_labelling.csv\")\n",
    "d = pd.read_csv(d)\n",
    "for _, row in d.iterrows():\n",
    "    c_raw.add_annotation_from_binary_mask(\n",
    "        os.path.join(constants.path_to_masks_dir, row[\"mask\"]),\n",
    "        row[\"crop_image_name\"],\n",
    "        row[\"family\"],\n",
    "        row[\"rough_class\"],\n",
    "        min_area=row[\"min_area\"],\n",
    "    )\n",
    "c_raw.show_annotations()\n",
    "c_raw.to_json(os.path.join(constants.path_to_anno_dir, \"all_anno.json\"))"
   ]
  },
  {
   "cell_type": "markdown",
   "metadata": {
    "id": "RGDYjqkM3gdv",
    "pycharm": {
     "name": "#%% md\n"
    }
   },
   "source": [
    "Now, all annotations are combined in the file `all_anno.json`."
   ]
  },
  {
   "cell_type": "markdown",
   "metadata": {},
   "source": [
    "# Train-validation-test Split for Insect Dataset\n",
    "\n",
    "Split instances into train and test set by removing the respective annotations from the COCO file and mark the not-included objects with a black overlay.\n",
    "Images can then be further processed by manually covering the black overlay with background patches.\n"
   ]
  },
  {
   "cell_type": "code",
   "execution_count": null,
   "metadata": {
    "collapsed": false,
    "jupyter": {
     "outputs_hidden": false
    },
    "pycharm": {
     "name": "#%%\n"
    }
   },
   "outputs": [],
   "source": [
    "coco_path = os.path.join(constants.path_to_anno_dir, \"all_anno.json\")\n",
    "coco = COCO(coco_path)\n",
    "raw_img_path = constants.path_to_imgs_dir"
   ]
  },
  {
   "cell_type": "markdown",
   "metadata": {},
   "source": [
    "## Split annotations and cover instances"
   ]
  },
  {
   "cell_type": "code",
   "execution_count": null,
   "metadata": {
    "collapsed": false,
    "jupyter": {
     "outputs_hidden": false
    },
    "pycharm": {
     "name": "#%%\n"
    }
   },
   "outputs": [],
   "source": [
    "train_anno_all = []\n",
    "test_anno_all = []\n",
    "valid_anno_all = []\n",
    "for img_anno in coco.imgs.values():\n",
    "    img = cv2.imread(os.path.join(raw_img_path, img_anno[\"file_name\"]))\n",
    "    img = cv2.cvtColor(img, cv2.COLOR_BGR2RGB)\n",
    "    anns = coco.loadAnns(coco.getAnnIds(img_anno[\"id\"]))\n",
    "\n",
    "    train_anno = anns[0 : len(anns) // 3 + 1]\n",
    "    train_anno_all += train_anno\n",
    "    valid_anno = anns[len(anns) // 3 + 1 : (len(anns) // 3) * 2 + 1]\n",
    "    valid_anno_all += valid_anno\n",
    "    test_anno = anns[(len(anns) // 3) * 2 + 1 :]\n",
    "    test_anno_all += test_anno\n",
    "\n",
    "    all_mask = coco.annToMask(anns[0])\n",
    "    for ann in anns:\n",
    "        all_mask = np.maximum(all_mask, coco.annToMask(ann))\n",
    "\n",
    "    l = []\n",
    "    for ann in train_anno:\n",
    "        l.append(coco.annToMask(ann))\n",
    "    train_mask = np.max(np.array(l), axis=0)\n",
    "\n",
    "    l = []\n",
    "    for ann in valid_anno:\n",
    "        l.append(coco.annToMask(ann))\n",
    "    valid_mask = np.max(np.array(l), axis=0)\n",
    "\n",
    "    l = []\n",
    "    for ann in test_anno:\n",
    "        l.append(coco.annToMask(ann))\n",
    "    test_mask = np.max(np.array(l), axis=0)\n",
    "\n",
    "    train_img = cv2.bitwise_or(\n",
    "        img, img, mask=(1 - all_mask - train_mask).astype(np.uint8)\n",
    "    )\n",
    "    valid_img = cv2.bitwise_or(\n",
    "        img, img, mask=(1 - all_mask - valid_mask).astype(np.uint8)\n",
    "    )\n",
    "    test_img = cv2.bitwise_or(\n",
    "        img, img, mask=(1 - all_mask - test_mask).astype(np.uint8)\n",
    "    )\n",
    "\n",
    "    cv2.imwrite(\n",
    "        f\"data/split/train/imgs/{img_anno['file_name'].split('.')[0]}-train.tif\",\n",
    "        cv2.cvtColor(train_img, cv2.COLOR_RGB2BGR),\n",
    "    )\n",
    "    cv2.imwrite(\n",
    "        f\"data/split/validation/imgs/{img_anno['file_name'].split('.')[0]}-validation.tif\",\n",
    "        cv2.cvtColor(valid_img, cv2.COLOR_RGB2BGR),\n",
    "    )\n",
    "    cv2.imwrite(\n",
    "        f\"data/split/test/imgs/{img_anno['file_name'].split('.')[0]}-test.tif\",\n",
    "        cv2.cvtColor(test_img, cv2.COLOR_RGB2BGR),\n",
    "    )"
   ]
  },
  {
   "cell_type": "markdown",
   "metadata": {},
   "source": [
    "## Create train set annotation"
   ]
  },
  {
   "cell_type": "code",
   "execution_count": null,
   "metadata": {
    "collapsed": false,
    "jupyter": {
     "outputs_hidden": false
    },
    "pycharm": {
     "name": "#%%\n"
    }
   },
   "outputs": [],
   "source": [
    "path = \"data/split/train/train_anno.json\"\n",
    "with open(coco_path) as json_file:\n",
    "    train_coco = json.load(json_file)\n",
    "train_coco[\"annotations\"] = train_anno_all\n",
    "\n",
    "for x in train_coco[\"images\"]:\n",
    "    x[\"file_name\"] = f\"{x['file_name'].split('.')[0]}-train.tif\"\n",
    "\n",
    "with open(path, \"w+\") as f:\n",
    "    f.write(json.dumps(train_coco, indent=4, sort_keys=False))"
   ]
  },
  {
   "cell_type": "markdown",
   "metadata": {},
   "source": [
    "### Verify train set"
   ]
  },
  {
   "cell_type": "code",
   "execution_count": null,
   "metadata": {
    "collapsed": false,
    "jupyter": {
     "outputs_hidden": false
    },
    "pycharm": {
     "name": "#%%\n"
    }
   },
   "outputs": [],
   "source": [
    "coco_train = COCO(path)\n",
    "for i in coco_train.imgs:\n",
    "    annIds = coco_train.getAnnIds(imgIds=i, iscrowd=None)\n",
    "    anns = coco_train.loadAnns(annIds)\n",
    "    img = cv2.imread(\n",
    "        os.path.join(\"data/split/train/imgs\", coco_train.imgs[i][\"file_name\"])\n",
    "    )\n",
    "    img = cv2.cvtColor(img, cv2.COLOR_BGR2RGB)\n",
    "    plt.figure(figsize=(10, 15))\n",
    "    plt.axis(\"off\")\n",
    "    plt.imshow(img)\n",
    "    coco.showAnns(anns)\n",
    "    plt.show()"
   ]
  },
  {
   "cell_type": "markdown",
   "metadata": {},
   "source": [
    "## Create validation set annotation"
   ]
  },
  {
   "cell_type": "code",
   "execution_count": null,
   "metadata": {
    "collapsed": false,
    "jupyter": {
     "outputs_hidden": false
    },
    "pycharm": {
     "name": "#%%\n"
    }
   },
   "outputs": [],
   "source": [
    "path = \"data/split/validation/validation_anno.json\"\n",
    "with open(coco_path) as json_file:\n",
    "    validation_coco = json.load(json_file)\n",
    "validation_coco[\"annotations\"] = valid_anno_all\n",
    "\n",
    "for x in validation_coco[\"images\"]:\n",
    "    x[\"file_name\"] = f\"{x['file_name'].split('.')[0]}-validation.tif\"\n",
    "\n",
    "with open(path, \"w+\") as f:\n",
    "    f.write(json.dumps(validation_coco, indent=4, sort_keys=False))"
   ]
  },
  {
   "cell_type": "markdown",
   "metadata": {},
   "source": [
    "### Verify validation set"
   ]
  },
  {
   "cell_type": "code",
   "execution_count": null,
   "metadata": {
    "collapsed": false,
    "jupyter": {
     "outputs_hidden": false
    },
    "pycharm": {
     "name": "#%%\n"
    }
   },
   "outputs": [],
   "source": [
    "coco_test = COCO(path)\n",
    "for i in coco_test.imgs:\n",
    "    annIds = coco_test.getAnnIds(imgIds=i, iscrowd=None)\n",
    "    anns = coco_test.loadAnns(annIds)\n",
    "    img = cv2.imread(\n",
    "        os.path.join(\"data/split/validation/imgs\", coco_test.imgs[i][\"file_name\"])\n",
    "    )\n",
    "    img = cv2.cvtColor(img, cv2.COLOR_BGR2RGB)\n",
    "    plt.figure(figsize=(10, 15))\n",
    "    plt.axis(\"off\")\n",
    "    plt.imshow(img)\n",
    "    coco.showAnns(anns)\n",
    "    plt.show()"
   ]
  },
  {
   "cell_type": "markdown",
   "metadata": {},
   "source": [
    "## Create test set annotation"
   ]
  },
  {
   "cell_type": "code",
   "execution_count": null,
   "metadata": {
    "collapsed": false,
    "jupyter": {
     "outputs_hidden": false
    },
    "pycharm": {
     "name": "#%%\n"
    }
   },
   "outputs": [],
   "source": [
    "path = \"data/split/test/test_anno.json\"\n",
    "with open(coco_path) as json_file:\n",
    "    test_coco = json.load(json_file)\n",
    "test_coco[\"annotations\"] = test_anno_all\n",
    "\n",
    "for x in test_coco[\"images\"]:\n",
    "    x[\"file_name\"] = f\"{x['file_name'].split('.')[0]}-test.tif\"\n",
    "\n",
    "with open(path, \"w+\") as f:\n",
    "    f.write(json.dumps(test_coco, indent=4, sort_keys=False))"
   ]
  },
  {
   "cell_type": "markdown",
   "metadata": {},
   "source": [
    "### Verify test set"
   ]
  },
  {
   "cell_type": "code",
   "execution_count": null,
   "metadata": {
    "collapsed": false,
    "jupyter": {
     "outputs_hidden": false
    },
    "pycharm": {
     "name": "#%%\n"
    }
   },
   "outputs": [],
   "source": [
    "coco_test = COCO(path)\n",
    "for i in coco_test.imgs:\n",
    "    annIds = coco_test.getAnnIds(imgIds=i, iscrowd=None)\n",
    "    anns = coco_test.loadAnns(annIds)\n",
    "    img = cv2.imread(\n",
    "        os.path.join(\"data/split/test/imgs\", coco_test.imgs[i][\"file_name\"])\n",
    "    )\n",
    "    img = cv2.cvtColor(img, cv2.COLOR_BGR2RGB)\n",
    "    plt.figure(figsize=(10, 15))\n",
    "    plt.axis(\"off\")\n",
    "    plt.imshow(img)\n",
    "    coco.showAnns(anns)\n",
    "    plt.show()"
   ]
  },
  {
   "cell_type": "markdown",
   "metadata": {
    "pycharm": {
     "name": "#%% md\n"
    }
   },
   "source": [
    "# Create Object Pools for Copy and Paste Augmentation"
   ]
  },
  {
   "cell_type": "code",
   "execution_count": null,
   "metadata": {
    "id": "HjXqjCBd3gdw",
    "pycharm": {
     "name": "#%%\n"
    }
   },
   "outputs": [],
   "source": [
    "coco = COCO(\"data/split/train/train_anno.json\")\n",
    "pc = PatchCreator(\n",
    "    coco,\n",
    "    \"data/split/train/imgs/\",\n",
    "    os.path.join(constants.path_to_copy_and_paste, \"created_patches\"),\n",
    ")\n",
    "for img in coco.imgs.values():\n",
    "    pc(img, dilation=1, blurr=0)"
   ]
  },
  {
   "cell_type": "markdown",
   "metadata": {
    "id": "Na-4NcIx3gdz",
    "pycharm": {
     "name": "#%% md\n"
    }
   },
   "source": [
    "This created a folder for each object category and placed the individual objects inside.\n",
    "The paths to folder have to specified in the configs for the CAP patch pools."
   ]
  }
 ],
 "metadata": {
  "colab": {
   "name": "copy_and_paste.ipynb",
   "provenance": [],
   "toc_visible": true
  },
  "kernelspec": {
   "display_name": "Python 3",
   "language": "python",
   "name": "python3"
  },
  "language_info": {
   "codemirror_mode": {
    "name": "ipython",
    "version": 3
   },
   "file_extension": ".py",
   "mimetype": "text/x-python",
   "name": "python",
   "nbconvert_exporter": "python",
   "pygments_lexer": "ipython3",
   "version": "3.7.10"
  }
 },
 "nbformat": 4,
 "nbformat_minor": 4
}
