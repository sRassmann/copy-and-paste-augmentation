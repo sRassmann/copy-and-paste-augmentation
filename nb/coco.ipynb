{
 "cells": [
  {
   "cell_type": "code",
   "execution_count": null,
   "metadata": {},
   "outputs": [],
   "source": [
    "%matplotlib inline\n",
    "from pycocotools.coco import COCO\n",
    "import numpy as np\n",
    "import skimage.io as io\n",
    "import matplotlib.pyplot as plt\n",
    "import pylab\n",
    "import os\n",
    "pylab.rcParams['figure.figsize'] = (25, 25)\n"
   ]
  },
  {
   "cell_type": "code",
   "execution_count": null,
   "metadata": {
    "pycharm": {
     "name": "#%%\n"
    }
   },
   "outputs": [],
   "source": [
    "dataDir='../../data/Annotationsdaten/all annotated'\n",
    "annFile= os.path.join(dataDir,\"all_coco.json\")\n",
    "bugs = COCO(annFile)\n"
   ]
  },
  {
   "cell_type": "code",
   "execution_count": null,
   "metadata": {
    "pycharm": {
     "name": "#%%\n"
    }
   },
   "outputs": [],
   "source": [
    "cats = bugs.loadCats(bugs.getCatIds())\n",
    "for i in bugs.imgs:\n",
    "    annIds = bugs.getAnnIds(imgIds=i, catIds=range(4), iscrowd=None)\n",
    "    anns = bugs.loadAnns(annIds)\n",
    "    print(len (anns))\n",
    "    img = io.imread(os.path.join(dataDir,bugs.imgs[i][\"file_name\"]))\n",
    "    plt.axis('off')\n",
    "    plt.imshow(img)\n",
    "    bugs.showAnns(anns)\n",
    "    plt.show()"
   ]
  },
  {
   "cell_type": "code",
   "execution_count": null,
   "metadata": {
    "pycharm": {
     "name": "#%%\n"
    }
   },
   "outputs": [],
   "source": [
    "img = io.imread(\"../../data/test_segmentation/org_image_comb_big_stich.tif\")\n",
    "plt.imshow(img, cmap='gray')\n",
    "plt.show()"
   ]
  },
  {
   "cell_type": "code",
   "execution_count": null,
   "metadata": {
    "pycharm": {
     "name": "#%%\n"
    }
   },
   "outputs": [],
   "source": [
    "mask = io.imread(\"../../data/test_segmentation/mask.tif\")\n",
    "plt.imshow(mask, cmap='gray')\n",
    "plt.show()"
   ]
  },
  {
   "cell_type": "code",
   "execution_count": null,
   "metadata": {
    "pycharm": {
     "name": "#%%\n"
    }
   },
   "outputs": [],
   "source": [
    "from skimage import measure\n",
    "from shapely.geometry import Polygon, MultiPolygon"
   ]
  },
  {
   "cell_type": "code",
   "execution_count": null,
   "metadata": {
    "pycharm": {
     "name": "#%%\n"
    }
   },
   "outputs": [],
   "source": [
    "contours = measure.find_contours(mask, 0.5, positive_orientation='low')\n",
    "# Display the image and plot all contours found\n",
    "fig, ax = plt.subplots()\n",
    "ax.imshow(mask, cmap=plt.cm.gray)\n",
    "\n",
    "for contour in contours:\n",
    "    ax.plot(contour[:, 1], contour[:, 0], linewidth=2)\n",
    "\n",
    "ax.axis('image')\n",
    "ax.set_xticks([])\n",
    "ax.set_yticks([])\n",
    "plt.show()"
   ]
  },
  {
   "cell_type": "code",
   "execution_count": null,
   "metadata": {
    "pycharm": {
     "name": "#%%\n"
    }
   },
   "outputs": [],
   "source": [
    "segmentations = []\n",
    "polygons = []\n",
    "is_crowd = 0\n",
    "image_id = 5\n",
    "category_id = 3\n",
    "annotation_id = 500\n",
    "a = []\n",
    "min_area = 500\n",
    "for contour in contours:\n",
    "    # Make a polygon and simplify it\n",
    "    poly = Polygon(contour)\n",
    "    if poly.area < min_area:\n",
    "        continue\n",
    "    poly = poly.simplify(1.0, preserve_topology=False)\n",
    "    segmentation = np.array(poly.exterior.coords).ravel().tolist()\n",
    "    d = {\n",
    "        \"id\": annotation_id,\n",
    "        \"image_id\": image_id,\n",
    "        \"category_id\": category_id,\n",
    "        \"iscrowd\": is_crowd,\n",
    "        \"area\": poly.area,\n",
    "        \"bbox\": [round(x) for x in poly.bounds],\n",
    "        \"segmentation\": segmentation,\n",
    "        }\n",
    "    a.append(d)\n",
    "    annotation_id += 1"
   ]
  },
  {
   "cell_type": "code",
   "execution_count": null,
   "metadata": {
    "pycharm": {
     "name": "#%%\n"
    }
   },
   "outputs": [],
   "source": [
    "s = {\n",
    "    \"info\": {\n",
    "        \"date_created\": \"2021-03-28 22:10:50.716335\"\n",
    "    },\n",
    "    \"licenses\": [\n",
    "        {\n",
    "            \"id\": 1,\n",
    "            \"name\": \"Attribution-NonCommercial-ShareAlike License\",\n",
    "            \"url\": \"http://creativecommons.org/licenses/by-nc-sa/2.0/\"\n",
    "        }\n",
    "    ],\n",
    "    \"categories\": [\n",
    "        {\n",
    "            \"id\": 1,\n",
    "            \"name\": \"Mesembryhmus purpuralis\",\n",
    "            \"supercategory\": \"None\"\n",
    "        },\n",
    "        {\n",
    "            \"id\": 2,\n",
    "            \"name\": \"Smerinthus ocellata\",\n",
    "            \"supercategory\": \"None\"\n",
    "        },\n",
    "        {\n",
    "            \"id\": 3,\n",
    "            \"name\": \"Mesembryhmus purpuralis\",\n",
    "            \"supercategory\": \"None\"\n",
    "        },\n",
    "        {\n",
    "            \"id\": 4,\n",
    "            \"name\": \"bug\",\n",
    "            \"supercategory\": \"None\"\n",
    "        }\n",
    "    ],\n",
    "    \"images\": [\n",
    "        {\n",
    "            \"id\": 0,\n",
    "            \"file_name\": \"Smerinthus_ocellata.jpg\",\n",
    "            \"width\": 3888,\n",
    "            \"height\": 5184,\n",
    "            \"date_captured\": \"2021-03-28 22:10:50.716292\",\n",
    "            \"license\": 1,\n",
    "            \"coco_url\": \"\",\n",
    "            \"flickr_url\": \"\"\n",
    "        },\n",
    "        {\n",
    "            \"id\": 1,\n",
    "            \"file_name\": \"DSC_6754.JPG\",\n",
    "            \"width\": 3264,\n",
    "            \"height\": 4928,\n",
    "            \"date_captured\": \"2021-03-28 22:10:50.716292\",\n",
    "            \"license\": 1,\n",
    "            \"coco_url\": \"\",\n",
    "            \"flickr_url\": \"\"\n",
    "        },\n",
    "        {\n",
    "            \"id\": 2,\n",
    "            \"file_name\": \"Mesembryhnus_purpuralis.JPG\",\n",
    "            \"width\": 3264,\n",
    "            \"height\": 4928,\n",
    "            \"date_captured\": \"2021-03-28 22:10:50.716292\",\n",
    "            \"license\": 1,\n",
    "            \"coco_url\": \"\",\n",
    "            \"flickr_url\": \"\"\n",
    "        },\n",
    "        {\n",
    "            \"id\": 3,\n",
    "            \"file_name\": \"bug.tif\",\n",
    "            \"width\": 2912,\n",
    "            \"height\": 1440,\n",
    "            \"date_captured\": \"at some timepoint\",\n",
    "            \"license\": 1,\n",
    "            \"coco_url\": \"\",\n",
    "            \"flickr_url\": \"\"\n",
    "        }\n",
    "    ],\n",
    "    \"annotations\": a,\n",
    "}\n"
   ]
  },
  {
   "cell_type": "code",
   "execution_count": null,
   "metadata": {
    "pycharm": {
     "name": "#%%\n"
    }
   },
   "outputs": [],
   "source": [
    "import json\n",
    "y = json.dumps(s)\n",
    "print(y)\n",
    "with open('../../data/anno.json', 'w') as f:\n",
    "    f.write(y)"
   ]
  },
  {
   "cell_type": "code",
   "execution_count": null,
   "metadata": {
    "pycharm": {
     "name": "#%%\n"
    }
   },
   "outputs": [],
   "source": [
    "bugs = COCO('../../data/anno.json')"
   ]
  },
  {
   "cell_type": "code",
   "execution_count": null,
   "metadata": {
    "pycharm": {
     "name": "#%%\n"
    }
   },
   "outputs": [],
   "source": [
    "annIds = bugs.getAnnIds(imgIds=[5], catIds=range(5), iscrowd=None)\n",
    "anns = bugs.loadAnns(annIds)\n",
    "print(len (anns))\n",
    "plt.axis('off')\n",
    "plt.imshow(img, cmap=\"gray\")\n",
    "bugs.showAnns(a)\n",
    "plt.show()"
   ]
  },
  {
   "cell_type": "code",
   "execution_count": null,
   "metadata": {
    "pycharm": {
     "name": "#%%\n"
    }
   },
   "outputs": [],
   "source": [
    "img.shape"
   ]
  },
  {
   "cell_type": "code",
   "execution_count": null,
   "metadata": {
    "pycharm": {
     "name": "#%%\n"
    }
   },
   "outputs": [],
   "source": []
  }
 ],
 "metadata": {
  "kernelspec": {
   "display_name": "Python 3",
   "language": "python",
   "name": "python3"
  },
  "language_info": {
   "codemirror_mode": {
    "name": "ipython",
    "version": 3
   },
   "file_extension": ".py",
   "mimetype": "text/x-python",
   "name": "python",
   "nbconvert_exporter": "python",
   "pygments_lexer": "ipython3",
   "version": "3.7.10"
  }
 },
 "nbformat": 4,
 "nbformat_minor": 1
}