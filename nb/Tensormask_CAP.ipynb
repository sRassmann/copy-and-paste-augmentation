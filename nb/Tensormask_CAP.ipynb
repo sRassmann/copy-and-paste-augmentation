{
 "cells": [
  {
   "cell_type": "code",
   "execution_count": null,
   "metadata": {
    "id": "GAnEFbgzKn_q"
   },
   "outputs": [],
   "source": [
    "from google.colab import drive\n",
    "import os\n",
    "import sys\n",
    "\n",
    "drive.mount(\"/content/drive\")\n",
    "\n",
    "# install dependencies:\n",
    "!pip install pyyaml==5.1\n",
    "\n",
    "import torch\n",
    "import torchvision\n",
    "\n",
    "print(torch.__version__, torch.cuda.is_available())\n",
    "!gcc --version\n",
    "# install detectron2: (colab has CUDA 10.1 + torch 1.8)\n",
    "# See https://detectron2.readthedocs.io/tutorials/install.html for instructions\n",
    "assert torch.__version__.startswith(\n",
    "    \"1.8\"\n",
    ")  # please manually install torch 1.8 if Colab changes its default version\n",
    "!pip install detectron2==0.4 -q -f https://dl.fbaipublicfiles.com/detectron2/wheels/cu101/torch1.8/index.html\n",
    "# Colab's \"restart runtime\" is needed after installation\n",
    "# !pip install -q -U albumentations   # Check if still needed\n",
    "\n",
    "os.chdir(\"drive/MyDrive/PG/pg_iss/\")\n",
    "assert os.getcwd().split(\"/\")[-1] == \"pg_iss\"\n",
    "# clone the repo at the same version, in order to access pre-defined configs\n",
    "# !git clone --branch v0.4 https://github.com/facebookresearch/detectron2.git detectron2_repo\n",
    "!pip install -q -e detectron2_repo/projects/TensorMask/"
   ]
  },
  {
   "cell_type": "code",
   "execution_count": null,
   "metadata": {
    "id": "unerraQRMhzr"
   },
   "outputs": [],
   "source": [
    "%load_ext autoreload\n",
    "%autoreload 2\n",
    "\n",
    "from detectron2.utils import comm\n",
    "from detectron2.checkpoint import DetectionCheckpointer\n",
    "from detectron2.config import get_cfg\n",
    "from detectron2.engine import (\n",
    "    DefaultTrainer,\n",
    "    DefaultPredictor,\n",
    "    default_argument_parser,\n",
    "    default_setup,\n",
    "    launch,\n",
    ")\n",
    "from detectron2.evaluation import COCOEvaluator, verify_results\n",
    "from detectron2.data.datasets import register_coco_instances\n",
    "from detectron2.data import MetadataCatalog, DatasetCatalog\n",
    "import random, cv2\n",
    "import numpy as np\n",
    "from google.colab.patches import cv2_imshow\n",
    "\n",
    "sys.path.append(\"detectron2_repo/projects/TensorMask\")\n",
    "\n",
    "from lib import coco_handler, copy_and_paste_augm, constants\n",
    "from lib.copy_and_paste_detectron import *\n",
    "\n",
    "from tensormask import add_tensormask_config\n",
    "import tensormask"
   ]
  },
  {
   "cell_type": "code",
   "execution_count": null,
   "metadata": {
    "id": "HTBbNc8NSJw5"
   },
   "outputs": [],
   "source": [
    "cfg = get_cfg()\n",
    "add_tensormask_config(cfg)\n",
    "add_cap_config(cfg)\n",
    "cfg.merge_from_file(\"configs/CAP_config.yaml\")\n",
    "# print(cfg.dump())"
   ]
  },
  {
   "cell_type": "code",
   "execution_count": null,
   "metadata": {
    "id": "sS190niRu_mk"
   },
   "outputs": [],
   "source": [
    "# currently Trainer can not be build with an existing dataset, hence this is waste RAM\n",
    "show_demo = False\n",
    "if show_demo:\n",
    "    dataset = CapDataset(cfg)\n",
    "    for i in range(10):\n",
    "        CapDataset.show_image_and_mask(dataset[i])\n",
    "        dataset.visualize_pools()"
   ]
  },
  {
   "cell_type": "code",
   "execution_count": null,
   "metadata": {
    "id": "IcOIec8zKOLk"
   },
   "outputs": [],
   "source": [
    "trainer = Trainer(cfg)  # takes some time for creating object pools\n",
    "trainer.resume_or_load(resume=False)\n",
    "trainer.train()"
   ]
  },
  {
   "cell_type": "code",
   "execution_count": null,
   "metadata": {
    "id": "OrmzDpyPVhp_"
   },
   "outputs": [],
   "source": [
    "register_coco_instances(\n",
    "    \"boxes\", {}, \"data/raw/annotations/all_anno.json\", \"data/raw/imgs\"\n",
    ")\n",
    "# TODO also test on some generated images\n",
    "# TODO keep track of instances and only count instances that weren't used for training\n",
    "dataset_dicts = DatasetCatalog.get(\"boxes\")"
   ]
  },
  {
   "cell_type": "code",
   "execution_count": null,
   "metadata": {
    "id": "IOJxhgXv3v5M"
   },
   "outputs": [],
   "source": [
    "from detectron2.utils.visualizer import ColorMode, Visualizer\n",
    "import random, cv2\n",
    "\n",
    "cfg.MODEL.WEIGHTS = os.path.join(cfg.OUTPUT_DIR, \"model_final.pth\")\n",
    "cfg.MODEL.TENSOR_MASK.SCORE_THRESH_TEST = (\n",
    "    0.5  # only show prediction with high confidence\n",
    ")\n",
    "predictor = DefaultPredictor(cfg)\n",
    "\n",
    "for d in dataset_dicts:\n",
    "    im = cv2.imread(d[\"file_name\"])\n",
    "    outputs = predictor(im)\n",
    "    v = Visualizer(\n",
    "        im[:, :, ::-1],\n",
    "        metadata=MetadataCatalog.get(\"boxes\"),\n",
    "        scale=0.8,\n",
    "        instance_mode=ColorMode.IMAGE_BW,  # remove the colors of unsegmented pixels\n",
    "    )\n",
    "    v = v.draw_instance_predictions(outputs[\"instances\"].to(\"cpu\"))\n",
    "    cv2_imshow(v.get_image()[:, :, ::-1])"
   ]
  }
 ],
 "metadata": {
  "accelerator": "GPU",
  "colab": {
   "collapsed_sections": [],
   "machine_shape": "hm",
   "name": "Tensormask_CAP.ipynb",
   "provenance": [
    {
     "file_id": "1poCuHzk-ualKInADHOwZnBv_lY7tZlhD",
     "timestamp": 1622119562707
    }
   ]
  },
  "kernelspec": {
   "display_name": "Python 3",
   "language": "python",
   "name": "python3"
  },
  "language_info": {
   "codemirror_mode": {
    "name": "ipython",
    "version": 3
   },
   "file_extension": ".py",
   "mimetype": "text/x-python",
   "name": "python",
   "nbconvert_exporter": "python",
   "pygments_lexer": "ipython3",
   "version": "3.7.10"
  }
 },
 "nbformat": 4,
 "nbformat_minor": 4
}
