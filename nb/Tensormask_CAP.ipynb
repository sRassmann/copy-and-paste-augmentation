{
 "cells": [
  {
   "cell_type": "code",
   "execution_count": null,
   "metadata": {
    "colab": {
     "base_uri": "https://localhost:8080/"
    },
    "id": "GAnEFbgzKn_q",
    "outputId": "86b151e9-14db-4328-b79a-c6973525572f"
   },
   "outputs": [],
   "source": [
    "from google.colab import drive\n",
    "import os\n",
    "import sys\n",
    "\n",
    "drive.mount(\"/content/drive\")\n",
    "\n",
    "# install dependencies:\n",
    "!pip install pyyaml==5.1\n",
    "!pip install torch==1.8.0 torchvision==0.9.0\n",
    "\n",
    "import torch\n",
    "import torchvision\n",
    "\n",
    "print(torch.__version__, torch.cuda.is_available())\n",
    "!gcc --version\n",
    "# install detectron2: (colab has CUDA 10.1 + torch 1.8)\n",
    "# See https://detectron2.readthedocs.io/tutorials/install.html for instructions\n",
    "assert torch.__version__.startswith(\"1.8\")\n",
    "!pip install detectron2==0.4 -q -f https://dl.fbaipublicfiles.com/detectron2/wheels/cu101/torch1.8/index.html\n",
    "# Colab's \"restart runtime\" is needed after installation\n",
    "!pip install -q -U albumentations\n",
    "\n",
    "os.chdir(\"drive/MyDrive/PG/pg_iss/\")\n",
    "assert os.getcwd().split(\"/\")[-1] == \"pg_iss\"\n",
    "# clone the repo at the same version, in order to access pre-defined configs\n",
    "# !git clone --branch v0.4 https://github.com/facebookresearch/detectron2.git detectron2_repo\n",
    "!pip install -q -e detectron2_repo/projects/TensorMask/"
   ]
  },
  {
   "cell_type": "code",
   "execution_count": null,
   "metadata": {
    "id": "unerraQRMhzr"
   },
   "outputs": [],
   "source": [
    "%load_ext autoreload\n",
    "%autoreload 2\n",
    "\n",
    "from detectron2.utils import comm\n",
    "from detectron2.checkpoint import DetectionCheckpointer\n",
    "from detectron2.config import get_cfg\n",
    "from detectron2.engine import (\n",
    "    DefaultTrainer,\n",
    "    DefaultPredictor,\n",
    "    default_argument_parser,\n",
    "    default_setup,\n",
    "    launch,\n",
    ")\n",
    "from detectron2.evaluation import COCOEvaluator, verify_results\n",
    "from detectron2.data.datasets import register_coco_instances\n",
    "from detectron2.data import MetadataCatalog, DatasetCatalog\n",
    "import random, cv2\n",
    "import numpy as np\n",
    "from google.colab.patches import cv2_imshow\n",
    "\n",
    "sys.path.append(\"detectron2_repo/projects/TensorMask\")\n",
    "\n",
    "from lib import coco_handler, copy_and_paste_augm, constants\n",
    "from lib.copy_and_paste_detectron import *\n",
    "\n",
    "from tensormask import add_tensormask_config\n",
    "import tensormask\n",
    "\n",
    "import warnings\n",
    "\n",
    "warnings.filterwarnings(\"ignore\", \"(Possibly )?corrupt EXIF data\", UserWarning)\n",
    "os.environ[\"LRU_CACHE_CAPACITY\"] = \"1\""
   ]
  },
  {
   "cell_type": "code",
   "execution_count": null,
   "metadata": {
    "id": "HTBbNc8NSJw5"
   },
   "outputs": [],
   "source": [
    "cfg = get_cfg()\n",
    "add_tensormask_config(cfg)\n",
    "add_cap_config(cfg)\n",
    "cfg.merge_from_file(\"configs/CAP_config.yaml\")\n",
    "cfg.OUTPUT_DIR = \"./output/run/\"\n",
    "# cfg.OUTPUT_DIR = \"/content/tmp/output/\"  # use tmp for testing, change to drive\n",
    "# cfg.CAP.PATCH_POOL = \"data/copy_and_paste/objs-test/\"  # use small dummy pool\n",
    "# cfg.CAP.PICKLE_PATH = \"/content/tmp/pickle/cap_dataset.pkl\"\n",
    "create_output(cfg)"
   ]
  },
  {
   "cell_type": "code",
   "execution_count": null,
   "metadata": {
    "id": "sS190niRu_mk"
   },
   "outputs": [],
   "source": [
    "dataset = CapDataset(cfg)\n",
    "dataset.dump(cfg=cfg)\n",
    "# dataset.dump(cfg=cfg, path=\"/content/tmp/pickle/cap_dataset.pkl\")  # use tmp storage\n",
    "n_examples = 5\n",
    "for i in range(n_examples):  # show some examples\n",
    "    CapDataset.show_image_and_mask(dataset[i])\n",
    "if n_examples:\n",
    "    dataset.visualize_pools()"
   ]
  },
  {
   "cell_type": "code",
   "execution_count": null,
   "metadata": {
    "colab": {
     "base_uri": "https://localhost:8080/"
    },
    "id": "n_Tpazj_d8NM",
    "outputId": "86ed6a90-1e54-482f-d5f4-ea5581f88710"
   },
   "outputs": [],
   "source": [
    "register_coco_instances(\n",
    "    \"boxes\", {}, \"data/raw/annotations/all_anno.json\", \"data/raw/imgs\"\n",
    ")\n",
    "cfg.DATASETS.TEST = (\"boxes\",)\n",
    "dataset_dicts = DatasetCatalog.get(\"boxes\")"
   ]
  },
  {
   "cell_type": "code",
   "execution_count": null,
   "metadata": {
    "id": "mifRohtXnN_o"
   },
   "outputs": [],
   "source": [
    "%load_ext tensorboard\n",
    "%tensorboard --logdir ./output/"
   ]
  },
  {
   "cell_type": "code",
   "execution_count": null,
   "metadata": {
    "colab": {
     "base_uri": "https://localhost:8080/",
     "height": 1000
    },
    "id": "IcOIec8zKOLk",
    "outputId": "31983911-c82d-4296-8fcf-2028f0925f43"
   },
   "outputs": [],
   "source": [
    "trainer = Trainer(cfg)  # might take some time for creating object pools\n",
    "trainer.resume_or_load(resume=False)\n",
    "trainer.train()"
   ]
  },
  {
   "cell_type": "code",
   "execution_count": null,
   "metadata": {
    "id": "VahVaqIKb0B2"
   },
   "outputs": [],
   "source": [
    "from detectron2.utils.visualizer import ColorMode, Visualizer\n",
    "import random, cv2, glob\n",
    "\n",
    "cfg.MODEL.WEIGHTS = os.path.join(cfg.OUTPUT_DIR, \"model_final.pth\")\n",
    "predictor = DefaultPredictor(cfg)\n",
    "\n",
    "for path in glob.glob(os.path.join(constants.path_to_data_dir, \"raw\", \"imgs/*\")):\n",
    "    im = cv2.imread(path)\n",
    "    outputs = predictor(im)\n",
    "    v = Visualizer(\n",
    "        im[:, :, ::-1],\n",
    "        metadata=MetadataCatalog.get(\"boxes\"),\n",
    "        scale=0.8,\n",
    "        instance_mode=ColorMode.IMAGE_BW,  # remove the colors of unsegmented pixels\n",
    "    )\n",
    "    v = v.draw_instance_predictions(outputs[\"instances\"].to(\"cpu\"))\n",
    "    cv2_imshow(v.get_image()[:, :, ::-1])"
   ]
  }
 ],
 "metadata": {
  "accelerator": "GPU",
  "colab": {
   "collapsed_sections": [],
   "machine_shape": "hm",
   "name": "Tensormask_CAP.ipynb",
   "provenance": []
  },
  "kernelspec": {
   "display_name": "Python 3",
   "language": "python",
   "name": "python3"
  },
  "language_info": {
   "codemirror_mode": {
    "name": "ipython",
    "version": 3
   },
   "file_extension": ".py",
   "mimetype": "text/x-python",
   "name": "python",
   "nbconvert_exporter": "python",
   "pygments_lexer": "ipython3",
   "version": "3.7.10"
  }
 },
 "nbformat": 4,
 "nbformat_minor": 4
}
