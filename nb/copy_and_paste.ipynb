{
 "cells": [
  {
   "cell_type": "code",
   "execution_count": null,
   "metadata": {},
   "outputs": [],
   "source": [
    "import matplotlib.pyplot as plt\n",
    "import pandas as pd\n",
    "from lib.coco_handler import *\n",
    "from lib.copy_and_paste_augm import *\n",
    "\n",
    "from pycocotools.coco import COCO\n",
    "\n",
    "%load_ext autoreload\n",
    "%autoreload 2"
   ]
  },
  {
   "cell_type": "markdown",
   "metadata": {
    "pycharm": {
     "name": "#%% md\n"
    }
   },
   "source": [
    "# Create a new COCO annotation set from masks\n",
    "\n",
    "This chunks takes an existing annotation file (alternatively creates an empty on)\n",
    " and adds instance masks extracted from the binary masks."
   ]
  },
  {
   "cell_type": "code",
   "execution_count": null,
   "metadata": {
    "pycharm": {
     "name": "#%%\n"
    }
   },
   "outputs": [],
   "source": [
    "c_raw = CocoDataset(os.path.join(constants.path_to_anno_dir, \"butterfly_anno.json\"))\n",
    "d = os.path.join(constants.path_to_data_dir, \"raw\", \"bug_labelling.csv\")\n",
    "d = pd.read_csv(d)\n",
    "for _, row in d.iterrows():\n",
    "    c_raw.add_annotation_from_binary_mask(\n",
    "        os.path.join(constants.path_to_masks_dir, row[\"mask\"]),\n",
    "        row[\"crop_image_name\"],\n",
    "        row[\"family\"],\n",
    "        row[\"rough_class\"],\n",
    "        min_area=row[\"min_area\"],\n",
    "    )\n",
    "c_raw.show_annotations()\n",
    "c_raw.to_json(os.path.join(constants.path_to_anno_dir, \"all_anno.json\"))"
   ]
  },
  {
   "cell_type": "markdown",
   "metadata": {
    "pycharm": {
     "name": "#%% md\n"
    }
   },
   "source": [
    "Now in the file `all_anno.json` all annotations are combined.\n",
    "\n",
    "# Extract single objects from masks"
   ]
  },
  {
   "cell_type": "code",
   "execution_count": null,
   "metadata": {
    "pycharm": {
     "name": "#%%\n"
    }
   },
   "outputs": [],
   "source": [
    "coco = COCO(os.path.join(constants.path_to_anno_dir, \"all_anno.json\"))\n",
    "pc = PatchCreator(\n",
    "    coco,\n",
    "    constants.path_to_imgs_dir,\n",
    "    os.path.join(constants.path_to_output_dir, \"patches\"),\n",
    ")\n",
    "for img in coco.imgs.values():\n",
    "    pc(img, dilation=1)"
   ]
  },
  {
   "cell_type": "markdown",
   "metadata": {
    "pycharm": {
     "name": "#%% md\n"
    }
   },
   "source": [
    "This created a folder for each object category and placed the individual objects inside.\n",
    "\n",
    "\n",
    "You might now want to filter the images for bad quality, partially occluded images etc.\n",
    "before re-loading the patch pool for the actual CAP image generation."
   ]
  },
  {
   "cell_type": "code",
   "execution_count": null,
   "metadata": {
    "pycharm": {
     "name": "#%%\n"
    }
   },
   "outputs": [],
   "source": [
    "obj_dir = os.path.join(constants.path_to_copy_and_paste, \"objs\")\n",
    "dirs = [os.path.basename(x) for x in glob.glob(os.path.join(obj_dir, \"*\"))]\n",
    "cat_ids = [s.split(\"-\")[0] for s in dirs]\n",
    "cat_labels = [s.split(\"-\")[1] for s in dirs]\n",
    "# create patch pool dict\n",
    "patch_pool = {\n",
    "    cat_label: PatchPool(\n",
    "        os.path.join(obj_dir, f\"{cat_id}-{cat_label}\"),\n",
    "        cat_id=cat_id,\n",
    "        cat_label=cat_label,\n",
    "        aug_transforms=None,\n",
    "        n_augmentations=0,  # only create Pool\n",
    "        scale=1,\n",
    "    )\n",
    "    for cat_id, cat_label in zip(cat_ids, cat_labels)\n",
    "}\n",
    "\n",
    "background_pool = BackgroundPool(\n",
    "    background_dir=os.path.join(constants.path_to_copy_and_paste, \"backgrounds\"),\n",
    "    background_anno=\"background_anno.json\",\n",
    "    max_resolution=(1800, 1500),\n",
    ")"
   ]
  },
  {
   "cell_type": "markdown",
   "metadata": {
    "pycharm": {
     "name": "#%% md\n"
    }
   },
   "source": [
    "Specify the scales and augmentations (for simplicity the same for both generators)."
   ]
  },
  {
   "cell_type": "code",
   "execution_count": null,
   "metadata": {
    "pycharm": {
     "name": "#%%\n"
    }
   },
   "outputs": [],
   "source": [
    "d = {\n",
    "    \"Mesembryhmus_purpuralis\": {1: 5, 0.25: 5},\n",
    "    \"Smerinthus_ocellata\": {1: 5, 1 / 2: 5},\n",
    "    \"Acherontia_atroposa\": {1: 5, 1 / 4: 3},\n",
    "    \"bug_proxy_2\": {1: 3},\n",
    "    \"bug_proxy_3\": {1: 3},\n",
    "    \"bug_proxy_1\": {1: 3, 4: 2},\n",
    "    \"Trichotichnus\": {1: 3, 4: 2},\n",
    "}"
   ]
  },
  {
   "cell_type": "code",
   "execution_count": null,
   "metadata": {
    "pycharm": {
     "name": "#%%\n"
    }
   },
   "outputs": [],
   "source": [
    "cpg_coco_train = CocoDataset(\n",
    "    info=CocoDataset.create_coco_info(\n",
    "        descr=\"\"\"\n",
    "    Image set created by Copy and Paste data augmentation\n",
    "\"\"\",\n",
    "        contrib=\"Sebastian Rassmann\",\n",
    "    )\n",
    ")"
   ]
  },
  {
   "cell_type": "code",
   "execution_count": null,
   "metadata": {
    "pycharm": {
     "name": "#%%\n"
    }
   },
   "outputs": [],
   "source": [
    "cpg = CollectionBoxGenerator(patch_pool, background_pool, d, max_n_objs=150)\n",
    "for i in range(5):\n",
    "    img, instance_masks, bboxs, cats, image_mask = cpg.generate()\n",
    "    img_name = f\"train-box-{i}.png\"\n",
    "    cv2.imwrite(\n",
    "        os.path.join(constants.path_to_copy_and_paste, \"output\", \"train\", img_name),\n",
    "        img,\n",
    "    )\n",
    "    cpg_coco_train.add_annotations_from_instance_mask(instance_masks, img_name, cats)\n",
    "    cpg_coco_train.show_annotations(\n",
    "        os.path.join(constants.path_to_copy_and_paste, \"output\", \"train\")\n",
    "    )"
   ]
  },
  {
   "cell_type": "code",
   "execution_count": null,
   "metadata": {
    "pycharm": {
     "name": "#%%\n"
    }
   },
   "outputs": [],
   "source": [
    "cpg = RandomGenerator(patch_pool, background_pool, d, max_n_objs=150)\n",
    "for i in range(5, 10):\n",
    "    img, instance_masks, bboxs, cats, image_mask = cpg.generate()\n",
    "    img_name = f\"train-box-{i}.png\"\n",
    "    cv2.imwrite(\n",
    "        os.path.join(constants.path_to_copy_and_paste, \"output\", \"train\", img_name),\n",
    "        img,\n",
    "    )\n",
    "    cpg_coco_train.add_annotations_from_instance_mask(instance_masks, img_name, cats)\n",
    "    cpg_coco_train.show_annotations(\n",
    "        os.path.join(constants.path_to_copy_and_paste, \"output\", \"train\")\n",
    "    )"
   ]
  }
 ],
 "metadata": {
  "kernelspec": {
   "display_name": "Python 3",
   "language": "python",
   "name": "python3"
  },
  "language_info": {
   "codemirror_mode": {
    "name": "ipython",
    "version": 3
   },
   "file_extension": ".py",
   "mimetype": "text/x-python",
   "name": "python",
   "nbconvert_exporter": "python",
   "pygments_lexer": "ipython3",
   "version": "3.7.10"
  }
 },
 "nbformat": 4,
 "nbformat_minor": 4
}
