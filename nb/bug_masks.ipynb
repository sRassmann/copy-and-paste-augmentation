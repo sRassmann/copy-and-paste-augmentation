{
 "cells": [
  {
   "cell_type": "code",
   "execution_count": 2,
   "metadata": {},
   "outputs": [],
   "source": [
    "%matplotlib inline\n",
    "from pycocotools.coco import COCO\n",
    "import numpy as np\n",
    "import skimage.io as io\n",
    "import matplotlib.pyplot as plt\n",
    "import pylab\n",
    "import os\n",
    "from skimage import measure\n",
    "from shapely.geometry import Polygon, MultiPolygon\n",
    "pylab.rcParams['figure.figsize'] = (25, 25)\n",
    "\n",
    "import lib.coco_handler as coco_handler\n",
    "import json"
   ]
  },
  {
   "cell_type": "code",
   "execution_count": 14,
   "metadata": {
    "pycharm": {
     "name": "#%%\n"
    }
   },
   "outputs": [
    {
     "name": "stdout",
     "output_type": "stream",
     "text": [
      "loading annotations into memory...\n",
      "Done (t=0.04s)\n",
      "creating index...\n",
      "index created!\n"
     ]
    }
   ],
   "source": [
    "dataDir='../data'\n",
    "annFile= os.path.join(dataDir,\"all_coco.json\")\n",
    "moths = COCO(annFile)"
   ]
  },
  {
   "cell_type": "code",
   "execution_count": 13,
   "outputs": [
    {
     "data": {
      "text/plain": "list"
     },
     "execution_count": 13,
     "metadata": {},
     "output_type": "execute_result"
    }
   ],
   "source": [
    "type(list(moths.anns.values()))"
   ],
   "metadata": {
    "collapsed": false,
    "pycharm": {
     "name": "#%%\n"
    }
   }
  },
  {
   "cell_type": "markdown",
   "metadata": {},
   "source": [
    "## COCO handling"
   ]
  },
  {
   "cell_type": "code",
   "execution_count": 4,
   "metadata": {
    "pycharm": {
     "name": "#%%\n"
    }
   },
   "outputs": [],
   "source": [
    "#TODO create class to handle\n",
    "\n",
    "def convert_bb_to_coco(minx, miny, maxx, maxy):\n",
    "    \"\"\"converts bb from shapely to coco format\"\"\"\n",
    "    width = round(maxx - minx, 1)\n",
    "    height = round(maxy - miny, 1)\n",
    "    return round(minx), round(miny), width, height\n",
    "\n",
    "def create_coco_anno_from_mask(mask, min_area, category_id = 3, annotation_id = 500, image_id=5):\n",
    "    mask = np.flip(np.rot90(mask, 1), axis=0)\n",
    "    contours = measure.find_contours(mask, 0.5, positive_orientation=\"low\")\n",
    "    contours = [c for c in contours if Polygon(c).area > min_area]\n",
    "    is_crowd = 0\n",
    "    a = []\n",
    "    for contour in contours:\n",
    "        # Make a polygon and simplify it\n",
    "        poly = Polygon(contour)\n",
    "        if poly.area < min_area:\n",
    "            continue\n",
    "        poly = poly.simplify(1.0, preserve_topology=False)\n",
    "        segmentation = [np.array(poly.exterior.coords).ravel().tolist()]\n",
    "        d = {\n",
    "            \"id\": annotation_id,\n",
    "            \"image_id\": image_id,\n",
    "            \"category_id\": category_id,\n",
    "            \"iscrowd\": is_crowd,\n",
    "            \"area\": poly.area,\n",
    "            \"bbox\": [*convert_bb_to_coco(*poly.bounds)],\n",
    "            \"segmentation\": segmentation,\n",
    "            }\n",
    "        a.append(d)\n",
    "        annotation_id += 1\n",
    "    return a"
   ]
  },
  {
   "cell_type": "code",
   "execution_count": 5,
   "metadata": {
    "pycharm": {
     "name": "#%%\n"
    }
   },
   "outputs": [
    {
     "ename": "FileNotFoundError",
     "evalue": "[Errno 2] No such file or directory: 'C:\\\\Users\\\\sebas\\\\Documents\\\\PG ISS SS21\\\\data\\\\coco_anno\\\\masks\\\\bug_test.tif'",
     "output_type": "error",
     "traceback": [
      "\u001B[1;31m---------------------------------------------------------------------------\u001B[0m",
      "\u001B[1;31mFileNotFoundError\u001B[0m                         Traceback (most recent call last)",
      "\u001B[1;32m<ipython-input-5-3c81086af2b2>\u001B[0m in \u001B[0;36m<module>\u001B[1;34m\u001B[0m\n\u001B[0;32m      1\u001B[0m \u001B[0mmin_bug_area\u001B[0m \u001B[1;33m=\u001B[0m \u001B[1;36m500\u001B[0m\u001B[1;33m\u001B[0m\u001B[1;33m\u001B[0m\u001B[0m\n\u001B[0;32m      2\u001B[0m \u001B[1;33m\u001B[0m\u001B[0m\n\u001B[1;32m----> 3\u001B[1;33m \u001B[0mmask\u001B[0m \u001B[1;33m=\u001B[0m \u001B[0mio\u001B[0m\u001B[1;33m.\u001B[0m\u001B[0mimread\u001B[0m\u001B[1;33m(\u001B[0m\u001B[0mos\u001B[0m\u001B[1;33m.\u001B[0m\u001B[0mpath\u001B[0m\u001B[1;33m.\u001B[0m\u001B[0mjoin\u001B[0m\u001B[1;33m(\u001B[0m\u001B[0mdataDir\u001B[0m\u001B[1;33m,\u001B[0m\u001B[1;34m\"masks\"\u001B[0m\u001B[1;33m,\u001B[0m \u001B[1;34m\"bug_test.tif\"\u001B[0m\u001B[1;33m)\u001B[0m\u001B[1;33m)\u001B[0m\u001B[1;33m\u001B[0m\u001B[1;33m\u001B[0m\u001B[0m\n\u001B[0m\u001B[0;32m      4\u001B[0m \u001B[0mimg\u001B[0m \u001B[1;33m=\u001B[0m \u001B[0mio\u001B[0m\u001B[1;33m.\u001B[0m\u001B[0mimread\u001B[0m\u001B[1;33m(\u001B[0m\u001B[0mos\u001B[0m\u001B[1;33m.\u001B[0m\u001B[0mpath\u001B[0m\u001B[1;33m.\u001B[0m\u001B[0mjoin\u001B[0m\u001B[1;33m(\u001B[0m\u001B[0mdataDir\u001B[0m\u001B[1;33m,\u001B[0m\u001B[1;34m\"imgs\"\u001B[0m\u001B[1;33m,\u001B[0m \u001B[1;34m\"bug_test.tif\"\u001B[0m\u001B[1;33m)\u001B[0m\u001B[1;33m)\u001B[0m\u001B[1;33m\u001B[0m\u001B[1;33m\u001B[0m\u001B[0m\n\u001B[0;32m      5\u001B[0m \u001B[0mcontours\u001B[0m \u001B[1;33m=\u001B[0m \u001B[0mmeasure\u001B[0m\u001B[1;33m.\u001B[0m\u001B[0mfind_contours\u001B[0m\u001B[1;33m(\u001B[0m\u001B[0mmask\u001B[0m\u001B[1;33m,\u001B[0m \u001B[1;36m0.5\u001B[0m\u001B[1;33m,\u001B[0m \u001B[0mpositive_orientation\u001B[0m\u001B[1;33m=\u001B[0m\u001B[1;34m'low'\u001B[0m\u001B[1;33m)\u001B[0m\u001B[1;33m\u001B[0m\u001B[1;33m\u001B[0m\u001B[0m\n",
      "\u001B[1;32m~\\.conda\\envs\\pg\\lib\\site-packages\\skimage\\io\\_io.py\u001B[0m in \u001B[0;36mimread\u001B[1;34m(fname, as_gray, plugin, **plugin_args)\u001B[0m\n\u001B[0;32m     46\u001B[0m \u001B[1;33m\u001B[0m\u001B[0m\n\u001B[0;32m     47\u001B[0m     \u001B[1;32mwith\u001B[0m \u001B[0mfile_or_url_context\u001B[0m\u001B[1;33m(\u001B[0m\u001B[0mfname\u001B[0m\u001B[1;33m)\u001B[0m \u001B[1;32mas\u001B[0m \u001B[0mfname\u001B[0m\u001B[1;33m:\u001B[0m\u001B[1;33m\u001B[0m\u001B[1;33m\u001B[0m\u001B[0m\n\u001B[1;32m---> 48\u001B[1;33m         \u001B[0mimg\u001B[0m \u001B[1;33m=\u001B[0m \u001B[0mcall_plugin\u001B[0m\u001B[1;33m(\u001B[0m\u001B[1;34m'imread'\u001B[0m\u001B[1;33m,\u001B[0m \u001B[0mfname\u001B[0m\u001B[1;33m,\u001B[0m \u001B[0mplugin\u001B[0m\u001B[1;33m=\u001B[0m\u001B[0mplugin\u001B[0m\u001B[1;33m,\u001B[0m \u001B[1;33m**\u001B[0m\u001B[0mplugin_args\u001B[0m\u001B[1;33m)\u001B[0m\u001B[1;33m\u001B[0m\u001B[1;33m\u001B[0m\u001B[0m\n\u001B[0m\u001B[0;32m     49\u001B[0m \u001B[1;33m\u001B[0m\u001B[0m\n\u001B[0;32m     50\u001B[0m     \u001B[1;32mif\u001B[0m \u001B[1;32mnot\u001B[0m \u001B[0mhasattr\u001B[0m\u001B[1;33m(\u001B[0m\u001B[0mimg\u001B[0m\u001B[1;33m,\u001B[0m \u001B[1;34m'ndim'\u001B[0m\u001B[1;33m)\u001B[0m\u001B[1;33m:\u001B[0m\u001B[1;33m\u001B[0m\u001B[1;33m\u001B[0m\u001B[0m\n",
      "\u001B[1;32m~\\.conda\\envs\\pg\\lib\\site-packages\\skimage\\io\\manage_plugins.py\u001B[0m in \u001B[0;36mcall_plugin\u001B[1;34m(kind, *args, **kwargs)\u001B[0m\n\u001B[0;32m    207\u001B[0m                                (plugin, kind))\n\u001B[0;32m    208\u001B[0m \u001B[1;33m\u001B[0m\u001B[0m\n\u001B[1;32m--> 209\u001B[1;33m     \u001B[1;32mreturn\u001B[0m \u001B[0mfunc\u001B[0m\u001B[1;33m(\u001B[0m\u001B[1;33m*\u001B[0m\u001B[0margs\u001B[0m\u001B[1;33m,\u001B[0m \u001B[1;33m**\u001B[0m\u001B[0mkwargs\u001B[0m\u001B[1;33m)\u001B[0m\u001B[1;33m\u001B[0m\u001B[1;33m\u001B[0m\u001B[0m\n\u001B[0m\u001B[0;32m    210\u001B[0m \u001B[1;33m\u001B[0m\u001B[0m\n\u001B[0;32m    211\u001B[0m \u001B[1;33m\u001B[0m\u001B[0m\n",
      "\u001B[1;32m~\\.conda\\envs\\pg\\lib\\site-packages\\skimage\\io\\_plugins\\tifffile_plugin.py\u001B[0m in \u001B[0;36mimread\u001B[1;34m(fname, **kwargs)\u001B[0m\n\u001B[0;32m     34\u001B[0m \u001B[1;33m\u001B[0m\u001B[0m\n\u001B[0;32m     35\u001B[0m     \u001B[1;31m# read and return tiff as numpy array\u001B[0m\u001B[1;33m\u001B[0m\u001B[1;33m\u001B[0m\u001B[1;33m\u001B[0m\u001B[0m\n\u001B[1;32m---> 36\u001B[1;33m     \u001B[1;32mwith\u001B[0m \u001B[0mTiffFile\u001B[0m\u001B[1;33m(\u001B[0m\u001B[0mfname\u001B[0m\u001B[1;33m,\u001B[0m \u001B[1;33m**\u001B[0m\u001B[0mkwargs_tiff\u001B[0m\u001B[1;33m)\u001B[0m \u001B[1;32mas\u001B[0m \u001B[0mtif\u001B[0m\u001B[1;33m:\u001B[0m\u001B[1;33m\u001B[0m\u001B[1;33m\u001B[0m\u001B[0m\n\u001B[0m\u001B[0;32m     37\u001B[0m         \u001B[1;32mreturn\u001B[0m \u001B[0mtif\u001B[0m\u001B[1;33m.\u001B[0m\u001B[0masarray\u001B[0m\u001B[1;33m(\u001B[0m\u001B[1;33m**\u001B[0m\u001B[0mkwargs\u001B[0m\u001B[1;33m)\u001B[0m\u001B[1;33m\u001B[0m\u001B[1;33m\u001B[0m\u001B[0m\n",
      "\u001B[1;32m~\\.conda\\envs\\pg\\lib\\site-packages\\tifffile\\tifffile.py\u001B[0m in \u001B[0;36m__init__\u001B[1;34m(self, arg, name, offset, size, mode, _multifile, _useframes, _master, **kwargs)\u001B[0m\n\u001B[0;32m   2882\u001B[0m                     \u001B[1;32mraise\u001B[0m \u001B[0mTypeError\u001B[0m\u001B[1;33m(\u001B[0m\u001B[1;34mf'unexpected keyword argument: {key}'\u001B[0m\u001B[1;33m)\u001B[0m\u001B[1;33m\u001B[0m\u001B[1;33m\u001B[0m\u001B[0m\n\u001B[0;32m   2883\u001B[0m \u001B[1;33m\u001B[0m\u001B[0m\n\u001B[1;32m-> 2884\u001B[1;33m         \u001B[0mfh\u001B[0m \u001B[1;33m=\u001B[0m \u001B[0mFileHandle\u001B[0m\u001B[1;33m(\u001B[0m\u001B[0marg\u001B[0m\u001B[1;33m,\u001B[0m \u001B[0mmode\u001B[0m\u001B[1;33m=\u001B[0m\u001B[0mmode\u001B[0m\u001B[1;33m,\u001B[0m \u001B[0mname\u001B[0m\u001B[1;33m=\u001B[0m\u001B[0mname\u001B[0m\u001B[1;33m,\u001B[0m \u001B[0moffset\u001B[0m\u001B[1;33m=\u001B[0m\u001B[0moffset\u001B[0m\u001B[1;33m,\u001B[0m \u001B[0msize\u001B[0m\u001B[1;33m=\u001B[0m\u001B[0msize\u001B[0m\u001B[1;33m)\u001B[0m\u001B[1;33m\u001B[0m\u001B[1;33m\u001B[0m\u001B[0m\n\u001B[0m\u001B[0;32m   2885\u001B[0m         \u001B[0mself\u001B[0m\u001B[1;33m.\u001B[0m\u001B[0m_fh\u001B[0m \u001B[1;33m=\u001B[0m \u001B[0mfh\u001B[0m\u001B[1;33m\u001B[0m\u001B[1;33m\u001B[0m\u001B[0m\n\u001B[0;32m   2886\u001B[0m         \u001B[0mself\u001B[0m\u001B[1;33m.\u001B[0m\u001B[0m_multifile\u001B[0m \u001B[1;33m=\u001B[0m \u001B[0mbool\u001B[0m\u001B[1;33m(\u001B[0m\u001B[0m_multifile\u001B[0m\u001B[1;33m)\u001B[0m\u001B[1;33m\u001B[0m\u001B[1;33m\u001B[0m\u001B[0m\n",
      "\u001B[1;32m~\\.conda\\envs\\pg\\lib\\site-packages\\tifffile\\tifffile.py\u001B[0m in \u001B[0;36m__init__\u001B[1;34m(self, file, mode, name, offset, size)\u001B[0m\n\u001B[0;32m   8956\u001B[0m         \u001B[0mself\u001B[0m\u001B[1;33m.\u001B[0m\u001B[0mis_file\u001B[0m \u001B[1;33m=\u001B[0m \u001B[1;32mNone\u001B[0m\u001B[1;33m\u001B[0m\u001B[1;33m\u001B[0m\u001B[0m\n\u001B[0;32m   8957\u001B[0m         \u001B[0mself\u001B[0m\u001B[1;33m.\u001B[0m\u001B[0m_lock\u001B[0m \u001B[1;33m=\u001B[0m \u001B[0mNullContext\u001B[0m\u001B[1;33m(\u001B[0m\u001B[1;33m)\u001B[0m\u001B[1;33m\u001B[0m\u001B[1;33m\u001B[0m\u001B[0m\n\u001B[1;32m-> 8958\u001B[1;33m         \u001B[0mself\u001B[0m\u001B[1;33m.\u001B[0m\u001B[0mopen\u001B[0m\u001B[1;33m(\u001B[0m\u001B[1;33m)\u001B[0m\u001B[1;33m\u001B[0m\u001B[1;33m\u001B[0m\u001B[0m\n\u001B[0m\u001B[0;32m   8959\u001B[0m \u001B[1;33m\u001B[0m\u001B[0m\n\u001B[0;32m   8960\u001B[0m     \u001B[1;32mdef\u001B[0m \u001B[0mopen\u001B[0m\u001B[1;33m(\u001B[0m\u001B[0mself\u001B[0m\u001B[1;33m)\u001B[0m\u001B[1;33m:\u001B[0m\u001B[1;33m\u001B[0m\u001B[1;33m\u001B[0m\u001B[0m\n",
      "\u001B[1;32m~\\.conda\\envs\\pg\\lib\\site-packages\\tifffile\\tifffile.py\u001B[0m in \u001B[0;36mopen\u001B[1;34m(self)\u001B[0m\n\u001B[0;32m   8969\u001B[0m             \u001B[0mself\u001B[0m\u001B[1;33m.\u001B[0m\u001B[0m_file\u001B[0m \u001B[1;33m=\u001B[0m \u001B[0mos\u001B[0m\u001B[1;33m.\u001B[0m\u001B[0mpath\u001B[0m\u001B[1;33m.\u001B[0m\u001B[0mrealpath\u001B[0m\u001B[1;33m(\u001B[0m\u001B[0mself\u001B[0m\u001B[1;33m.\u001B[0m\u001B[0m_file\u001B[0m\u001B[1;33m)\u001B[0m\u001B[1;33m\u001B[0m\u001B[1;33m\u001B[0m\u001B[0m\n\u001B[0;32m   8970\u001B[0m             \u001B[0mself\u001B[0m\u001B[1;33m.\u001B[0m\u001B[0m_dir\u001B[0m\u001B[1;33m,\u001B[0m \u001B[0mself\u001B[0m\u001B[1;33m.\u001B[0m\u001B[0m_name\u001B[0m \u001B[1;33m=\u001B[0m \u001B[0mos\u001B[0m\u001B[1;33m.\u001B[0m\u001B[0mpath\u001B[0m\u001B[1;33m.\u001B[0m\u001B[0msplit\u001B[0m\u001B[1;33m(\u001B[0m\u001B[0mself\u001B[0m\u001B[1;33m.\u001B[0m\u001B[0m_file\u001B[0m\u001B[1;33m)\u001B[0m\u001B[1;33m\u001B[0m\u001B[1;33m\u001B[0m\u001B[0m\n\u001B[1;32m-> 8971\u001B[1;33m             \u001B[0mself\u001B[0m\u001B[1;33m.\u001B[0m\u001B[0m_fh\u001B[0m \u001B[1;33m=\u001B[0m \u001B[0mopen\u001B[0m\u001B[1;33m(\u001B[0m\u001B[0mself\u001B[0m\u001B[1;33m.\u001B[0m\u001B[0m_file\u001B[0m\u001B[1;33m,\u001B[0m \u001B[0mself\u001B[0m\u001B[1;33m.\u001B[0m\u001B[0m_mode\u001B[0m\u001B[1;33m)\u001B[0m\u001B[1;33m\u001B[0m\u001B[1;33m\u001B[0m\u001B[0m\n\u001B[0m\u001B[0;32m   8972\u001B[0m             \u001B[0mself\u001B[0m\u001B[1;33m.\u001B[0m\u001B[0m_close\u001B[0m \u001B[1;33m=\u001B[0m \u001B[1;32mTrue\u001B[0m\u001B[1;33m\u001B[0m\u001B[1;33m\u001B[0m\u001B[0m\n\u001B[0;32m   8973\u001B[0m             \u001B[1;32mif\u001B[0m \u001B[0mself\u001B[0m\u001B[1;33m.\u001B[0m\u001B[0m_offset\u001B[0m \u001B[1;32mis\u001B[0m \u001B[1;32mNone\u001B[0m\u001B[1;33m:\u001B[0m\u001B[1;33m\u001B[0m\u001B[1;33m\u001B[0m\u001B[0m\n",
      "\u001B[1;31mFileNotFoundError\u001B[0m: [Errno 2] No such file or directory: 'C:\\\\Users\\\\sebas\\\\Documents\\\\PG ISS SS21\\\\data\\\\coco_anno\\\\masks\\\\bug_test.tif'"
     ]
    }
   ],
   "source": [
    "min_bug_area = 500\n",
    "\n",
    "mask = io.imread(os.path.join(dataDir,\"masks\", \"bug_test.tif\"))\n",
    "img = io.imread(os.path.join(dataDir,\"imgs\", \"bug_test.tif\"))\n",
    "contours = measure.find_contours(mask, 0.5, positive_orientation='low')\n",
    "contours = [c for c in contours if Polygon(c).area > min_bug_area]\n"
   ]
  },
  {
   "cell_type": "code",
   "execution_count": null,
   "metadata": {
    "pycharm": {
     "name": "#%%\n"
    }
   },
   "outputs": [],
   "source": [
    "f, axs = plt.subplots(1,3, figsize=(10,8))\n",
    "\n",
    "axs[0].imshow(img, cmap='gray')\n",
    "\n",
    "\n",
    "axs[1].imshow(mask, cmap='gray')\n",
    "axs[2].imshow(img, cmap='gray')\n",
    "\n",
    "for contour in contours:\n",
    "    axs[2].plot(contour[:, 1], contour[:, 0], linewidth=2)\n",
    "\n",
    "axs[2].axis('image')\n",
    "axs[2].set_xticks([])\n",
    "axs[2].set_yticks([])\n",
    "\n",
    "plt.show()"
   ]
  },
  {
   "cell_type": "code",
   "execution_count": null,
   "metadata": {
    "pycharm": {
     "name": "#%%\n"
    }
   },
   "outputs": [],
   "source": [
    "anno1 = create_coco_anno_from_mask(mask, min_bug_area)"
   ]
  },
  {
   "cell_type": "code",
   "execution_count": null,
   "metadata": {
    "pycharm": {
     "name": "#%%\n"
    }
   },
   "outputs": [],
   "source": [
    "min_bug_area = 500\n",
    "\n",
    "mask = io.imread(os.path.join(dataDir,\"masks\", \"kasten_8.tif\"))\n",
    "img = io.imread(os.path.join(dataDir,\"imgs\", \"kasten_8.tif\"))\n",
    "contours = measure.find_contours(mask, 1, positive_orientation='low')\n",
    "contours = [c for c in contours if Polygon(c).area > min_bug_area]\n",
    "\n",
    "f, axs = plt.subplots(1,3, figsize=(10,8))\n",
    "\n",
    "axs[0].imshow(img, cmap='gray')\n",
    "axs[0].set_xticks([])\n",
    "axs[0].set_yticks([])\n",
    "\n",
    "axs[1].imshow(mask, cmap='gray')\n",
    "axs[1].set_xticks([])\n",
    "axs[1].set_yticks([])\n",
    "\n",
    "axs[2].imshow(img, cmap='gray')\n",
    "\n",
    "for contour in contours:\n",
    "    axs[2].plot(contour[:, 1], contour[:, 0], linewidth=2)\n",
    "\n",
    "axs[2].axis('image')\n",
    "axs[2].set_xticks([])\n",
    "axs[2].set_yticks([])\n",
    "\n",
    "plt.show()\n",
    "\n",
    "anno2 = create_coco_anno_from_mask(mask, 500, category_id = 4, annotation_id = 600, image_id=6)\n"
   ]
  },
  {
   "cell_type": "code",
   "execution_count": null,
   "metadata": {
    "pycharm": {
     "name": "#%%\n"
    }
   },
   "outputs": [],
   "source": [
    "coco_anno = {\n",
    "    **coco_handler.coco_dataset.coco_info,\n",
    "    **coco_handler.coco_dataset.coco_licenses,\n",
    "    **coco_handler.coco_dataset.coco_images,\n",
    "    \"annotations\":anno1+anno2\n",
    "    }"
   ]
  },
  {
   "cell_type": "code",
   "execution_count": null,
   "metadata": {
    "pycharm": {
     "name": "#%%\n"
    }
   },
   "outputs": [],
   "source": [
    "with open('../../data/coco_anno/bugs.json', 'w') as f:\n",
    "    f.write(json.dumps(coco_anno))\n"
   ]
  },
  {
   "cell_type": "code",
   "execution_count": null,
   "metadata": {
    "pycharm": {
     "name": "#%%\n"
    }
   },
   "outputs": [],
   "source": [
    "bugs = COCO(\"../../data/coco_anno/bugs.json\")"
   ]
  },
  {
   "cell_type": "code",
   "execution_count": null,
   "metadata": {
    "pycharm": {
     "name": "#%%\n"
    }
   },
   "outputs": [],
   "source": [
    "annIds = bugs.getAnnIds(imgIds=[6], catIds=range(5), iscrowd=None)\n",
    "anns = bugs.loadAnns(annIds)\n",
    "print(len (anns))\n",
    "plt.axis('off')\n",
    "plt.imshow(img, cmap=\"gray\")\n",
    "bugs.showAnns(anns, True)\n",
    "plt.show()"
   ]
  },
  {
   "cell_type": "markdown",
   "metadata": {
    "pycharm": {
     "name": "#%% md\n"
    }
   },
   "source": [
    "# other code\n"
   ]
  },
  {
   "cell_type": "code",
   "execution_count": null,
   "outputs": [],
   "source": [
    "coco = COCO(\"../data/anno/all_anno.json\")\n",
    "data_dir = (\"../data/imgs/\")\n",
    "image= coco.imgs[3]"
   ],
   "metadata": {
    "collapsed": false,
    "pycharm": {
     "name": "#%%\n"
    }
   }
  },
  {
   "cell_type": "code",
   "execution_count": null,
   "outputs": [],
   "source": [
    "out_dir = \"../output/segmented_bugs/\"\n",
    "for _, cat in coco.cats.items():\n",
    "    os.makedirs(os.path.join(out_dir, cat[\"name\"]), exist_ok=True)\n"
   ],
   "metadata": {
    "collapsed": false,
    "pycharm": {
     "name": "#%%\n"
    }
   }
  },
  {
   "cell_type": "code",
   "execution_count": null,
   "outputs": [],
   "source": [
    "img = Image.open(os.path.join(data_dir, image[\"file_name\"]))\n",
    "img = img.convert(\"RGBA\")\n",
    "img = np.asarray(img.convert('RGBA'))"
   ],
   "metadata": {
    "collapsed": false,
    "pycharm": {
     "name": "#%%\n"
    }
   }
  },
  {
   "cell_type": "code",
   "execution_count": null,
   "outputs": [],
   "source": [
    "anns_ids = coco.getAnnIds(imgIds=image[\"id\"], iscrowd=None)\n",
    "anns = coco.loadAnns(anns_ids)\n",
    "an = anns[0]\n",
    "xmin, ymin, w, h = tuple([int(i) for i in an[\"bbox\"]])\n",
    "mask = coco.annToMask(an)[ymin-1:ymin+h+2,xmin-1:xmin+w+2]\n",
    "obj = img[ymin-1:ymin+h+2,xmin-1:xmin+w+2].copy()\n",
    "obj[:, :, 3] = np.where(mask, obj[:, :, 3], np.nan)\n",
    "\n",
    "plt.imshow(obj)\n",
    "cat = coco.loadCats(ids=[an[\"category_id\"]])[0][\"name\"]\n",
    "Image.fromarray(obj).save(os.path.join(\"../data/segmented_bugs\", cat, \"test.png\"))\n",
    "\n"
   ],
   "metadata": {
    "collapsed": false,
    "pycharm": {
     "name": "#%%\n"
    }
   }
  },
  {
   "cell_type": "code",
   "execution_count": null,
   "outputs": [],
   "source": [
    "anns_ids = coco.getAnnIds(imgIds=image[\"id\"], iscrowd=None)\n",
    "anns = coco.loadAnns(anns_ids)\n",
    "\n",
    "for i, an in enumerate(anns):\n",
    "    img = Image.open(os.path.join(data_dir, image[\"file_name\"]))\n",
    "    img = img.convert(\"RGBA\")\n",
    "    img = np.asarray(img.convert('RGBA'))\n",
    "\n",
    "    xmin, ymin, w, h = tuple([int(i) for i in an[\"bbox\"]])\n",
    "    mask = coco.annToMask(an)[ymin-1:ymin+h+2,xmin-1:xmin+w+2]\n",
    "    obj = img[ymin-1:ymin+h+2,xmin-1:xmin+w+2].copy()\n",
    "    obj[:, :, 3] = np.where(mask, obj[:, :, 3], np.nan)\n",
    "\n",
    "    plt.imshow(obj)\n",
    "    cat = coco.loadCats(ids=[an[\"category_id\"]])[0][\"name\"]\n",
    "    Image.fromarray(obj).save(os.path.join(\"../output/segmented_bugs\", cat, f\"{i}.png\"))\n",
    "    plt.show()"
   ],
   "metadata": {
    "collapsed": false,
    "pycharm": {
     "name": "#%%\n"
    }
   }
  },
  {
   "cell_type": "code",
   "execution_count": null,
   "outputs": [],
   "source": [
    "cat_ids = coco.getCatIds()\n",
    "for image in coco.imgs:\n",
    "    img = Image.open(os.path.join(data_dir, image[\"file_name\"]))\n",
    "    img = img.convert(\"RGBA\")\n",
    "\n",
    "    anns_ids = coco.getAnnIds(imgIds=img[\"id\"], iscrowd=None)\n",
    "    anns = coco.loadAnns(anns_ids)\n",
    "    for an in anns:\n",
    "        mask = coco.annToMask(an)\n",
    "        obj = np.where(mask, img, np.nan)\n",
    "        io.imsave(os.path.join(out_dir, an[\"category_id\"]))\n"
   ],
   "metadata": {
    "collapsed": false,
    "pycharm": {
     "name": "#%%\n"
    }
   }
  },
  {
   "cell_type": "code",
   "execution_count": null,
   "outputs": [],
   "source": [
    "# cat_ids = coco.getCatIds()\n",
    "# anns_ids = coco.getAnnIds(imgIds=img[\"id\"], catIds=cat_ids, iscrowd=None)\n",
    "# anns = coco.loadAnns(anns_ids)\n",
    "# anns_img = np.zeros((img['height'],img['width']))\n",
    "# for ann in anns:\n",
    "#     anns_img = np.maximum(anns_img,coco.annToMask(ann)*ann['category_id'])"
   ],
   "metadata": {
    "collapsed": false,
    "pycharm": {
     "name": "#%%\n"
    }
   }
  },
  {
   "cell_type": "code",
   "execution_count": null,
   "outputs": [],
   "source": [],
   "metadata": {
    "collapsed": false,
    "pycharm": {
     "name": "#%%\n"
    }
   }
  }
 ],
 "metadata": {
  "kernelspec": {
   "display_name": "Python 3",
   "language": "python",
   "name": "python3"
  },
  "language_info": {
   "codemirror_mode": {
    "name": "ipython",
    "version": 3
   },
   "file_extension": ".py",
   "mimetype": "text/x-python",
   "name": "python",
   "nbconvert_exporter": "python",
   "pygments_lexer": "ipython3",
   "version": "3.7.10"
  }
 },
 "nbformat": 4,
 "nbformat_minor": 1
}