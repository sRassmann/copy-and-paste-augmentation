{
 "cells": [
  {
   "cell_type": "markdown",
   "metadata": {
    "id": "TjGKMhtuyfsB"
   },
   "source": [
    "# Usual Imports and Setups"
   ]
  },
  {
   "cell_type": "code",
   "execution_count": null,
   "metadata": {
    "colab": {
     "base_uri": "https://localhost:8080/"
    },
    "id": "o6zNj3dFwMG3",
    "outputId": "6fd98043-2655-4db8-ddd7-d81e731545b0"
   },
   "outputs": [],
   "source": [
    "from google.colab import drive\n",
    "import os\n",
    "import sys\n",
    "\n",
    "drive.mount(\"/content/drive\")\n",
    "\n",
    "# install dependencies:\n",
    "!pip install pyyaml==5.1\n",
    "!pip install torch==1.8.0 torchvision==0.9.0\n",
    "\n",
    "import torch\n",
    "import torchvision\n",
    "\n",
    "print(torch.__version__, torch.cuda.is_available())\n",
    "!gcc --version\n",
    "# install detectron2: (colab has CUDA 10.1 + torch 1.8)\n",
    "# See https://detectron2.readthedocs.io/tutorials/install.html for instructions\n",
    "assert torch.__version__.startswith(\"1.8\")\n",
    "!pip install detectron2==0.4 -q -f https://dl.fbaipublicfiles.com/detectron2/wheels/cu101/torch1.8/index.html\n",
    "# Colab's \"restart runtime\" is needed after installation\n",
    "!pip install -q -U albumentations\n",
    "\n",
    "os.chdir(\"drive/MyDrive/PG/pg_iss/\")\n",
    "assert os.getcwd().split(\"/\")[-1] == \"pg_iss\"\n",
    "# clone the repo at the same version, in order to access pre-defined configs\n",
    "# !git clone --branch v0.4 https://github.com/facebookresearch/detectron2.git detectron2_repo\n",
    "!pip install -q -e detectron2_repo/projects/TensorMask/"
   ]
  },
  {
   "cell_type": "code",
   "execution_count": null,
   "metadata": {
    "id": "JLfEdcb9wWAX"
   },
   "outputs": [],
   "source": [
    "%load_ext autoreload\n",
    "%autoreload 2\n",
    "\n",
    "from detectron2.config import get_cfg\n",
    "from detectron2.utils import comm\n",
    "from detectron2.evaluation import COCOEvaluator, verify_results\n",
    "from detectron2.data.datasets import register_coco_instances\n",
    "from detectron2.data import MetadataCatalog, DatasetCatalog\n",
    "from detectron2.utils.visualizer import ColorMode, Visualizer\n",
    "from detectron2.engine import DefaultPredictor, DefaultTrainer\n",
    "from detectron2.evaluation import COCOEvaluator, inference_on_dataset\n",
    "from detectron2.data import build_detection_test_loader\n",
    "import random, cv2, glob\n",
    "import numpy as np\n",
    "from google.colab.patches import cv2_imshow\n",
    "\n",
    "sys.path.append(\"detectron2_repo/projects/TensorMask\")\n",
    "\n",
    "from lib import coco_handler, copy_and_paste_augm, constants\n",
    "from lib.detectron2_utils import *\n",
    "from lib.copy_and_paste_detectron import *\n",
    "\n",
    "from tensormask import add_tensormask_config\n",
    "import tensormask\n",
    "\n",
    "import warnings\n",
    "\n",
    "warnings.filterwarnings(\"ignore\", \"(Possibly )?corrupt EXIF data\", UserWarning)\n",
    "os.environ[\"LRU_CACHE_CAPACITY\"] = \"1\""
   ]
  },
  {
   "cell_type": "code",
   "execution_count": null,
   "metadata": {
    "id": "esjHo33qwtn2"
   },
   "outputs": [],
   "source": [
    "cfg = get_cfg()\n",
    "add_tensormask_config(cfg)\n",
    "add_cap_config(cfg)\n",
    "cfg.merge_from_file(\"configs/test_config.yaml\")"
   ]
  },
  {
   "cell_type": "code",
   "execution_count": null,
   "metadata": {
    "id": "2M2hsmJx1-LH"
   },
   "outputs": [],
   "source": [
    "register_coco_instances(\n",
    "    \"train_boxes\", {}, \"data/split/train/train_anno.json\", \"data/split/train/imgs/\",\n",
    ")\n",
    "register_coco_instances(\n",
    "    \"validation_boxes\",\n",
    "    {},\n",
    "    \"data/split/validation/validation_anno.json\",\n",
    "    \"data/split/validation/imgs/\",\n",
    ")\n",
    "register_coco_instances(\n",
    "    \"test_boxes\", {}, \"data/split/test/test_anno.json\", \"data/split/test/imgs/\",\n",
    ")\n",
    "# All\n",
    "# Scale pyramid"
   ]
  },
  {
   "cell_type": "markdown",
   "metadata": {
    "id": "OgaoFeSVyp_J"
   },
   "source": [
    "## Change config for testing\n",
    "Increase number of detections per image and lower the confidence threshold for predictions (both were set more stringend for validtion for performance)."
   ]
  },
  {
   "cell_type": "code",
   "execution_count": null,
   "metadata": {
    "id": "Te15t4E4yCFf"
   },
   "outputs": [],
   "source": [
    "cfg.TEST.DETECTIONS_PER_IMAGE = 300\n",
    "cfg.MODEL.SCORE_THRESH_TEST = 0.5\n",
    "cfg.INPUT.MAX_TEST_SIZE = 3000\n",
    "cfg.INPUT.MIN_TEST_SIZE = 2500\n",
    "cfg.OUTPUT_DIR = \"./output/cap_base/\"\n",
    "cfg.MODEL.WEIGHTS = os.path.join(cfg.OUTPUT_DIR, \"model_final.pth\")"
   ]
  },
  {
   "cell_type": "markdown",
   "metadata": {
    "id": "Pm0mO8fqzRnc"
   },
   "source": [
    "# Quantative Testing"
   ]
  },
  {
   "cell_type": "markdown",
   "metadata": {
    "id": "Lb7gXGPZzV8Q"
   },
   "source": [
    "## Dedicated test set\n",
    "Uses the dedicated test set containing instances that were neither used for training nor for validation."
   ]
  },
  {
   "cell_type": "code",
   "execution_count": null,
   "metadata": {
    "id": "iSIu_nOJB9Zd"
   },
   "outputs": [],
   "source": [
    "trainer = BaseTrainer(cfg)\n",
    "trainer.resume_or_load(resume=True)"
   ]
  },
  {
   "cell_type": "code",
   "execution_count": null,
   "metadata": {
    "colab": {
     "base_uri": "https://localhost:8080/"
    },
    "id": "AXcMPvt8BhAz",
    "outputId": "6d69d433-abbf-4b79-dd71-c6f10461db53"
   },
   "outputs": [],
   "source": [
    "evaluator = COCOEvaluator(\"test_boxes\", (\"bbox\", \"segm\"), False, output_dir=\"./output/\")\n",
    "val_loader = build_detection_test_loader(cfg, \"test_boxes\")\n",
    "print(inference_on_dataset(trainer.model, val_loader, evaluator))"
   ]
  },
  {
   "cell_type": "markdown",
   "metadata": {
    "id": "pVkh0jaUzmaR"
   },
   "source": [
    "## Generated boxes\n",
    "Test on realistic images generated from the instance pool from the test set."
   ]
  },
  {
   "cell_type": "code",
   "execution_count": null,
   "metadata": {
    "id": "Eo5J0F40zwCX"
   },
   "outputs": [],
   "source": [
    "# TODO"
   ]
  },
  {
   "cell_type": "markdown",
   "metadata": {
    "id": "-jCmhvoVzyyK"
   },
   "source": [
    "## Scale Pyramid\n",
    "Test on different scales in order to estimate generalizability and scale bias"
   ]
  },
  {
   "cell_type": "code",
   "execution_count": null,
   "metadata": {
    "id": "yhBFvU39z_Ce"
   },
   "outputs": [],
   "source": [
    "# TODO"
   ]
  },
  {
   "cell_type": "markdown",
   "metadata": {
    "id": "9LAgzD6t0BRp"
   },
   "source": [
    "# Qualitative Testing\n",
    "Use (partially) unannotated images in order to estimate generalizability."
   ]
  },
  {
   "cell_type": "markdown",
   "metadata": {
    "id": "3bbz9unX0eGS"
   },
   "source": [
    "## Inselect boxes"
   ]
  },
  {
   "cell_type": "code",
   "execution_count": null,
   "metadata": {},
   "outputs": [],
   "source": [
    "cfg.TEST.DETECTIONS_PER_IMAGE = 600\n",
    "cfg.MODEL.TENSOR_MASK.SCORE_THRESH_TEST = 0.5\n",
    "cfg.MODEL.TENSOR_MASK.NUM_CLASSES = 2\n",
    "cfg.MODEL.WEIGHTS = os.path.join(cfg.OUTPUT_DIR, \"model_final.pth\")\n",
    "predictor = DefaultPredictor(cfg)\n",
    "cfg.TEST.DETECTIONS_PER_IMAGE = 300"
   ]
  },
  {
   "cell_type": "code",
   "execution_count": null,
   "metadata": {
    "colab": {
     "base_uri": "https://localhost:8080/",
     "height": 7474
    },
    "id": "lZMvOIJW0KVY",
    "outputId": "70e7ae2f-3584-4e1e-e9be-56c2b4e5fb30"
   },
   "outputs": [],
   "source": [
    "for path in glob.glob(os.path.join(constants.path_to_data_dir, \"InselectTest\", \"*\")):\n",
    "    if \"single\" in path:\n",
    "        continue\n",
    "    im = cv2.imread(path)\n",
    "    outputs = predictor(im)\n",
    "    v = Visualizer(\n",
    "        im[:, :, ::-1],\n",
    "        metadata=MetadataCatalog.get(\"test_boxes\"),\n",
    "        scale=0.5,\n",
    "        instance_mode=ColorMode.IMAGE_BW,  # remove the colors of unsegmented pixels\n",
    "    )\n",
    "    v = v.draw_instance_predictions(outputs[\"instances\"].to(\"cpu\"))\n",
    "    cv2_imshow(v.get_image()[:, :, ::-1])"
   ]
  }
 ],
 "metadata": {
  "accelerator": "GPU",
  "colab": {
   "collapsed_sections": [],
   "name": "detectron2_test.ipynb",
   "provenance": []
  },
  "kernelspec": {
   "display_name": "Python 3",
   "language": "python",
   "name": "python3"
  },
  "language_info": {
   "codemirror_mode": {
    "name": "ipython",
    "version": 3
   },
   "file_extension": ".py",
   "mimetype": "text/x-python",
   "name": "python",
   "nbconvert_exporter": "python",
   "pygments_lexer": "ipython3",
   "version": "3.7.10"
  }
 },
 "nbformat": 4,
 "nbformat_minor": 4
}
